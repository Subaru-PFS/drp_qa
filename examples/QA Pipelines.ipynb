{
 "cells": [
  {
   "cell_type": "code",
   "execution_count": null,
   "id": "initial_id",
   "metadata": {
    "collapsed": true
   },
   "outputs": [],
   "source": [
    "from pathlib import Path\n",
    "\n",
    "from IPython.display import Image\n",
    "from lsst.daf.butler import Butler"
   ]
  },
  {
   "metadata": {},
   "cell_type": "code",
   "outputs": [],
   "execution_count": null,
   "source": [
    "DATASTORE = '/work/datastore/'\n",
    "COLLECTIONS = 'PFS/default'\n",
    "INSTRUMENT = 'lsst.obs.pfs.PrimeFocusSpectrograph'\n",
    "NUM_JOBS = 12\n",
    "\n",
    "DRP_DIR = !echo $DRP_STELLA_DIR\n",
    "PIPELINE_PATH = f'{DRP_DIR[0]}/pipelines/reduceExposure.yaml'\n",
    "QA_PIPELINE_PATH = f'/work/wtg/drp_qa_dev/pipelines/detectorMapQa.yaml'\n",
    "\n",
    "OUTPUT_COLLECTION = 'wtg/PIPE2D-1528'\n",
    "LOG_FILE = Path('./pipetask.log').absolute().as_posix()"
   ],
   "id": "f6498ad794a214dc"
  },
  {
   "metadata": {},
   "cell_type": "code",
   "outputs": [],
   "execution_count": null,
   "source": [
    "!defineCombination.py --update {DATASTORE} PFS wtg/run18_dm_inputs \\\n",
    "    113981 113982 113983 113984 113985 113986 113987 113988 113989 113990 \\\n",
    "    113991 113992 113993 113994 113995 114641 114642 114644 114645 114646 \\\n",
    "    114647 114648 114649 114650 114651 114652 114653 114654 114655 114656 \\\n",
    "    114657 114659 114660 114661 114986 114987 114988 114989 114990 114991 \\\n",
    "    114992 114993 114994 114995 114996 114997 114999 114500"
   ],
   "id": "eaec05c89c1f573c"
  },
  {
   "metadata": {},
   "cell_type": "code",
   "outputs": [],
   "execution_count": null,
   "source": "",
   "id": "aab17a400af22d2b"
  },
  {
   "metadata": {},
   "cell_type": "markdown",
   "source": "## Run `reduceExposure` pipeline",
   "id": "ab57f2b8ba0a45a4"
  },
  {
   "metadata": {},
   "cell_type": "code",
   "outputs": [],
   "execution_count": null,
   "source": [
    "!pipetask \\\n",
    "    --long-log \\\n",
    "    --no-log-tty \\\n",
    "    --log-level \"pfs.drp.stella=INFO\" \\\n",
    "    --log-file {LOG_FILE} \\\n",
    "    run \\\n",
    "    -b {DATASTORE} \\\n",
    "    -j 50 \\\n",
    "    --instrument {INSTRUMENT} \\\n",
    "    -i {COLLECTIONS} \\\n",
    "    -o {OUTPUT_COLLECTION} \\\n",
    "    -p {PIPELINE_PATH} \\\n",
    "    -d \"combination in ('wtg/run18_dm_origin_inputs') AND arm in ('b', 'r', 'n')\""
   ],
   "id": "599380a54ae3b33"
  },
  {
   "metadata": {},
   "cell_type": "markdown",
   "source": "## Run `detectorMapQa` pipeline",
   "id": "302a554dfc9c4adf"
  },
  {
   "metadata": {},
   "cell_type": "code",
   "outputs": [],
   "execution_count": null,
   "source": [
    "make_residual = True\n",
    "combine = False\n",
    "use_sigma = False\n",
    "spatial_range = 0.1\n",
    "wavelength_range = 0.1"
   ],
   "id": "b6a8d97dd22e550b"
  },
  {
   "metadata": {},
   "cell_type": "code",
   "outputs": [],
   "execution_count": null,
   "source": [
    "!pipetask \\\n",
    "    --log-tty \\\n",
    "    --long-log \\\n",
    "    --log-level \"pfs.detectorMapCombinedQa=INFO\" \\\n",
    "    --log-file {LOG_FILE} \\\n",
    "    run \\\n",
    "    --register-dataset-types \\\n",
    "    --replace-run \\\n",
    "    -b {DATASTORE} \\\n",
    "    -j 50 \\\n",
    "    --instrument {INSTRUMENT} \\\n",
    "    -i {COLLECTIONS} \\\n",
    "    -o {OUTPUT_COLLECTION} \\\n",
    "    -p \"{QA_PIPELINE_PATH}\" \\\n",
    "    -d \"combination = 'wtg/run18_dm_origin_inputs'\" \\\n",
    "    -c dmResiduals:useSigmaRange={use_sigma} \\\n",
    "    -c dmResiduals:spatialRange={spatial_range} \\\n",
    "    -c dmResiduals:wavelengthRange={wavelength_range} \\\n",
    "    --fail-fast"
   ],
   "id": "f0f0fdbac1afd325"
  },
  {
   "metadata": {},
   "cell_type": "markdown",
   "source": "## Get stored objects from the butler",
   "id": "a926a8556d8b7221"
  },
  {
   "metadata": {},
   "cell_type": "code",
   "outputs": [],
   "execution_count": null,
   "source": "butler = Butler(DATASTORE, collections=OUTPUT_COLLECTION)",
   "id": "4f04822656d30fb7"
  },
  {
   "metadata": {},
   "cell_type": "code",
   "outputs": [],
   "execution_count": null,
   "source": "butler.get('dmQaDetectorStats')",
   "id": "951212e05f8b524e"
  },
  {
   "metadata": {},
   "cell_type": "code",
   "outputs": [],
   "execution_count": null,
   "source": "butler.getURI('dmQaCombinedResidualPlot')",
   "id": "2cd4e88835e744ac"
  },
  {
   "metadata": {},
   "cell_type": "code",
   "outputs": [],
   "execution_count": null,
   "source": "!cp {butler.getURI('dmQaCombinedResidualPlot').unquoted_path} .",
   "id": "57e01ba5eac7a26a"
  },
  {
   "metadata": {},
   "cell_type": "code",
   "outputs": [],
   "execution_count": null,
   "source": "data_id = dict(arm='r', spectrograph=2, exposure=113595)",
   "id": "e515c230376c5dae"
  },
  {
   "metadata": {},
   "cell_type": "code",
   "outputs": [],
   "execution_count": null,
   "source": "butler.get('dmQaResidualStats', data_id).T",
   "id": "515708bf2f1f56eb"
  },
  {
   "metadata": {},
   "cell_type": "code",
   "outputs": [],
   "execution_count": null,
   "source": "Image(filename=butler.getURI('dmQaResidualPlot', data_id).unquoted_path)",
   "id": "bde020de75ba974d"
  }
 ],
 "metadata": {
  "kernelspec": {
   "display_name": "Python 3",
   "language": "python",
   "name": "python3"
  },
  "language_info": {
   "codemirror_mode": {
    "name": "ipython",
    "version": 2
   },
   "file_extension": ".py",
   "mimetype": "text/x-python",
   "name": "python",
   "nbconvert_exporter": "python",
   "pygments_lexer": "ipython2",
   "version": "2.7.6"
  }
 },
 "nbformat": 4,
 "nbformat_minor": 5
}

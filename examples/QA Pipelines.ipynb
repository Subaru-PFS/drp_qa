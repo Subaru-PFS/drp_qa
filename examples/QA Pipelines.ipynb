{
 "cells": [
  {
   "cell_type": "code",
   "execution_count": null,
   "id": "initial_id",
   "metadata": {},
   "outputs": [],
   "source": [
    "from lsst.daf.butler import Butler"
   ]
  },
  {
   "cell_type": "code",
   "execution_count": null,
   "id": "19f6874d-12b8-4ebb-b0d6-a3a89545ea34",
   "metadata": {},
   "outputs": [],
   "source": [
    "# Change the output collection to match your ticket, e.g. wtg/tickets/PIPE2D-1234\n",
    "OUTPUT_COLLECTION = 'wtg/example'"
   ]
  },
  {
   "cell_type": "code",
   "execution_count": null,
   "id": "f6498ad794a214dc",
   "metadata": {},
   "outputs": [],
   "source": [
    "# These probably dont' need to change.\n",
    "DATASTORE = '/work/datastore/'\n",
    "COLLECTIONS = 'PFS/default'\n",
    "INSTRUMENT = 'lsst.obs.pfs.PrimeFocusSpectrograph'\n",
    "\n",
    "# These are the pipelines that we are running.\n",
    "REDUCE_PIPELINE_PATH = '$DRP_STELLA_DIR/pipelines/reduceExposure.yaml'\n",
    "QA_PIPELINE_PATH = f'/work/wtg/drp_qa_dev/pipelines/detectorMapQa.yaml'\n",
    "\n",
    "# Pipeline run options\n",
    "LOG_FILE = './pipetask.log'\n",
    "NUM_JOBS = 25"
   ]
  },
  {
   "attachments": {},
   "cell_type": "markdown",
   "id": "c26d9ecc-ef87-4c06-a001-633c4a80f441",
   "metadata": {},
   "source": [
    "## Run `reduceExposure` pipeline\n",
    "\n",
    "This will generate the `lines` and adjusted `detectorMap` objects we use for the DetectorMap QA.\n",
    "\n",
    "We use the `!` operator to call the `pipetask` command the same as we would in a shell. \n",
    "\n",
    "Here we are just processing a simple set of calibration exposures, a Quartz and one of each lamp line, which we will define in our data_select string."
   ]
  },
  {
   "cell_type": "code",
   "execution_count": null,
   "id": "cd2e1e92-c75b-42af-92bc-7b48a31f86cb",
   "metadata": {},
   "outputs": [],
   "source": [
    "data_select = \"exposure in (114641, 114644, 114647, 114651, 114655, 114659) and arm in ('b', 'r', 'n')\""
   ]
  },
  {
   "cell_type": "code",
   "execution_count": null,
   "id": "599380a54ae3b33",
   "metadata": {
    "scrolled": true
   },
   "outputs": [],
   "source": [
    "!pipetask \\\n",
    "    --long-log \\\n",
    "    --no-log-tty \\\n",
    "    --log-level \"pfs.drp.stella=INFO\" \\\n",
    "    --log-file {LOG_FILE} \\\n",
    "    run \\\n",
    "    -b {DATASTORE} \\\n",
    "    -j {NUM_JOBS} \\\n",
    "    --instrument {INSTRUMENT} \\\n",
    "    -i {COLLECTIONS} \\\n",
    "    -o {OUTPUT_COLLECTION} \\\n",
    "    -p {REDUCE_PIPELINE_PATH} \\\n",
    "    -d \"{data_select}\""
   ]
  },
  {
   "cell_type": "markdown",
   "id": "302a554dfc9c4adf",
   "metadata": {},
   "source": [
    "## Run `detectorMapQa` pipeline\n",
    "\n",
    "The `detectorMapQa` runs a number of separate QA related tasks.\n",
    "\n",
    "We specify a few options to show the syntax but the default options should be okay for most processing."
   ]
  },
  {
   "cell_type": "code",
   "execution_count": null,
   "id": "b6a8d97dd22e550b",
   "metadata": {},
   "outputs": [],
   "source": [
    "use_sigma = False\n",
    "spatial_range = 0.1\n",
    "wavelength_range = 0.1"
   ]
  },
  {
   "cell_type": "code",
   "execution_count": null,
   "id": "f0f0fdbac1afd325",
   "metadata": {},
   "outputs": [],
   "source": [
    "!pipetask \\\n",
    "    --long-log \\\n",
    "    --no-log-tty \\\n",
    "    --log-file {LOG_FILE} \\\n",
    "    run \\\n",
    "    --register-dataset-types \\\n",
    "    -b {DATASTORE} \\\n",
    "    -j {NUM_JOBS} \\\n",
    "    --instrument {INSTRUMENT} \\\n",
    "    -i {COLLECTIONS} \\\n",
    "    -o {OUTPUT_COLLECTION} \\\n",
    "    -p \"{QA_PIPELINE_PATH}\" \\\n",
    "    -d \"{data_select}\" \\\n",
    "    -c dmResiduals:useSigmaRange={use_sigma} \\\n",
    "    -c dmResiduals:spatialRange={spatial_range} \\\n",
    "    -c dmResiduals:wavelengthRange={wavelength_range} \\\n",
    "    --fail-fast"
   ]
  },
  {
   "cell_type": "markdown",
   "id": "a926a8556d8b7221",
   "metadata": {},
   "source": [
    "## Get stored objects from the butler\n",
    "\n",
    "We use the `OUTPUT_COLLECTION` to look up the objects stored by the tasks."
   ]
  },
  {
   "cell_type": "code",
   "execution_count": null,
   "id": "4f04822656d30fb7",
   "metadata": {},
   "outputs": [],
   "source": [
    "butler = Butler(DATASTORE, collections=OUTPUT_COLLECTION)"
   ]
  },
  {
   "cell_type": "markdown",
   "id": "af213707fde40d51",
   "metadata": {},
   "source": [
    "\n",
    "The QA task for individual exposures produces a plot (saved as a `.png` image)\n",
    "and a `pandas.DataFrame` that has two rows of statistics, one for the `USED`\n",
    "points and one for the `RESERVED` points.\n",
    "\n",
    "The `USED` points come from the adjustment itself and the `RESERVED` points are\n",
    " what we want to do the QA checks on.\n",
    "\n",
    "The statistics are stored under the `dmQaResidualStats` and the plot is `dmQaResidualPlot`. These both require the `(arm, spectrograph, exposure)` dimensions, which we define here as a traditional DataId."
   ]
  },
  {
   "cell_type": "code",
   "execution_count": null,
   "id": "1f4dd19508a65257",
   "metadata": {},
   "outputs": [],
   "source": [
    "data_id = dict(arm='r', spectrograph=2, exposure=114641)"
   ]
  },
  {
   "cell_type": "markdown",
   "id": "7e5dd037-646c-4d9b-ad10-671d63608b28",
   "metadata": {},
   "source": [
    "### dmQaResidualStats\n",
    "\n",
    "Statistics for an individual detector for a given exposure."
   ]
  },
  {
   "cell_type": "code",
   "execution_count": null,
   "id": "d3699ce82b1d98d6",
   "metadata": {},
   "outputs": [],
   "source": [
    "# Show the RESERVED and USED stats for the given detector exposure.\n",
    "butler.get('dmQaResidualStats', data_id).T"
   ]
  },
  {
   "cell_type": "markdown",
   "id": "f6064a22-e7f1-486c-8d23-eec4327284de",
   "metadata": {},
   "source": [
    "### dmQaResidualPlot\n",
    "\n",
    "The 2D residaul plot of an indvidual detector for a given exposure.\n",
    "\n",
    "The residual plots are stored as `png` images and the butler can only return a path to those objects, but we can display those in a notebook using the path."
   ]
  },
  {
   "cell_type": "code",
   "execution_count": null,
   "id": "1e26f880-f24a-4e79-a4f9-7a3fb9068d60",
   "metadata": {},
   "outputs": [],
   "source": [
    "butler.getURI('dmQaResidualPlot', data_id)"
   ]
  },
  {
   "cell_type": "code",
   "execution_count": null,
   "id": "58c291669f7378b0",
   "metadata": {},
   "outputs": [],
   "source": [
    "# Use the .unquoted_path property.\n",
    "from IPython.display import Image\n",
    "Image(filename=butler.getURI('dmQaResidualPlot', data_id).unquoted_path)"
   ]
  },
  {
   "cell_type": "markdown",
   "id": "9b5c7b82-e2f9-432d-87b7-f70812e4366d",
   "metadata": {},
   "source": [
    "### dmQaDetectorStats\n",
    "\n",
    "Aggregate detector stats for all decector and exposure combinations in the collection."
   ]
  },
  {
   "cell_type": "code",
   "execution_count": null,
   "id": "951212e05f8b524e",
   "metadata": {},
   "outputs": [],
   "source": [
    "butler.get('dmQaDetectorStats').head()"
   ]
  },
  {
   "cell_type": "markdown",
   "id": "c70b86ff-314b-4284-a479-a61bf04bd10f",
   "metadata": {},
   "source": [
    "### dmQaCombinedResidualPlot\n",
    "\n",
    "A multi-page pdf report that shows aggregate plot statistics based on the `dmQaDetectorStats` data above.\n",
    "\n",
    "Like images, the butler cannot directly display a PDF but only return a path. We can copy that file from the datastore to the local directory to look at it."
   ]
  },
  {
   "cell_type": "code",
   "execution_count": null,
   "id": "2cd4e88835e744ac",
   "metadata": {},
   "outputs": [],
   "source": [
    "butler.getURI('dmQaCombinedResidualPlot')"
   ]
  },
  {
   "cell_type": "code",
   "execution_count": null,
   "id": "57e01ba5eac7a26a",
   "metadata": {},
   "outputs": [],
   "source": [
    "# Copy the file to our local directory\n",
    "!cp {butler.getURI('dmQaCombinedResidualPlot').unquoted_path} ."
   ]
  }
 ],
 "metadata": {
  "kernelspec": {
   "display_name": "PFS",
   "language": "python",
   "name": "pfs_pipe2d"
  },
  "language_info": {
   "codemirror_mode": {
    "name": "ipython",
    "version": 3
   },
   "file_extension": ".py",
   "mimetype": "text/x-python",
   "name": "python",
   "nbconvert_exporter": "python",
   "pygments_lexer": "ipython3",
   "version": "3.11.9"
  },
  "widgets": {
   "application/vnd.jupyter.widget-state+json": {
    "state": {},
    "version_major": 2,
    "version_minor": 0
   }
  }
 },
 "nbformat": 4,
 "nbformat_minor": 5
}

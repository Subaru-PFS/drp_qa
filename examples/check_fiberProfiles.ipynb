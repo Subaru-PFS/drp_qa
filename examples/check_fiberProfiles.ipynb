{
 "cells": [
  {
   "cell_type": "markdown",
   "id": "7d037bb0-db08-4574-a648-87d114fc56c9",
   "metadata": {},
   "source": [
    "# check generated fiberProfiles quality"
   ]
  },
  {
   "cell_type": "code",
   "execution_count": null,
   "id": "0a14bbfa-be95-44b6-859d-c68a59fdd22c",
   "metadata": {},
   "outputs": [],
   "source": [
    "%matplotlib widget\n",
    "%load_ext autoreload\n",
    "%autoreload 2\n",
    "\n",
    "import sys\n",
    "import os\n",
    "import numpy as np\n",
    "import pandas as pd\n",
    "import matplotlib.pyplot as plt\n",
    "import matplotlib.cm as cm\n",
    "from matplotlib.ticker import MultipleLocator\n",
    "import matplotlib.patches as patches\n",
    "import scipy.ndimage as nd\n",
    "\n",
    "from lsst.daf.butler import Butler\n",
    "import lsst.afw.display as afwDisplay\n",
    "afwDisplay.setDefaultBackend(\"matplotlib\")\n",
    "\n",
    "from pfs.drp.stella.utils import addPfsCursor, showAllSpectraAsImage, showDetectorMap\n",
    "from pfs.drp.stella import SpectrumSet\n",
    "from pfs.drp.stella.subtractSky1d import subtractSky1d\n",
    "from pfs.utils.fiberids import FiberIds\n",
    "from pfs.datamodel import PfsDesign, FiberStatus, TargetType\n",
    "from pfs.datamodel import PfsFiberNorms\n",
    "from pfs.drp.stella.readLineList import ReadLineListTask, ReadLineListConfig\n",
    "from pfs.drp.stella.subtractSky1d import subtractSky1d\n",
    "from pfs.datamodel.target import Target\n",
    "\n",
    "import warnings\n",
    "warnings.filterwarnings('ignore')\n",
    "\n",
    "from PIL import Image\n",
    "\n",
    "plt.rcParams[\"font.size\"] = 12         \n",
    "plt.rcParams[\"xtick.direction\"] = \"in\" \n",
    "plt.rcParams[\"ytick.direction\"] = \"in\" \n",
    "plt.rcParams[\"xtick.top\"] = True\n",
    "plt.rcParams[\"xtick.bottom\"] = True    \n",
    "plt.rcParams[\"ytick.left\"] = True      \n",
    "plt.rcParams[\"ytick.right\"] = True     \n",
    "plt.rcParams[\"xtick.major.size\"] = 8.0 \n",
    "plt.rcParams[\"ytick.major.size\"] = 8.0 \n",
    "plt.rcParams[\"xtick.major.width\"] = 1.0\n",
    "plt.rcParams[\"ytick.major.width\"] = 1.0\n",
    "plt.rcParams[\"xtick.minor.size\"] = 4.0 \n",
    "plt.rcParams[\"ytick.minor.size\"] = 4.0 \n",
    "plt.rcParams[\"xtick.minor.width\"] = 0.7\n",
    "plt.rcParams[\"ytick.minor.width\"] = 0.7\n",
    "plt.rcParams[\"xtick.minor.visible\"] = True\n",
    "plt.rcParams[\"ytick.minor.visible\"] = True\n",
    "plt.rcParams[\"xtick.labelsize\"] = 12   \n",
    "plt.rcParams[\"ytick.labelsize\"] = 12   \n",
    "plt.rcParams[\"axes.labelsize\"] = 12   \n",
    "plt.rcParams[\"figure.facecolor\"] = 'white'"
   ]
  },
  {
   "cell_type": "code",
   "execution_count": null,
   "id": "60ca565f-90e2-4422-a9f7-b937b1b4d1f3",
   "metadata": {},
   "outputs": [],
   "source": [
    "workDir=\"/home/kiyoyabe/erun/s25b/analysis\"\n",
    "figDir=os.path.join(workDir, \"figures/fiberProfiles\")\n",
    "os.makedirs(figDir, exist_ok=True)"
   ]
  },
  {
   "cell_type": "code",
   "execution_count": null,
   "id": "3f9ff566-196a-41ed-acd2-b7382bb21226",
   "metadata": {},
   "outputs": [],
   "source": [
    "run = \"run24\"\n",
    "collections = [\"PFS/calib/pipe2d-1760/run24/verifyCalib.science.20250930a\"]\n",
    "butler = Butler(\"/work/datastore\", collections=collections)\n",
    "\n",
    "spectrographs = [1, 2, 3, 4]\n",
    "arms = [\"b\", \"r\", \"n\", \"m\"]\n",
    "visit = 131624"
   ]
  },
  {
   "cell_type": "markdown",
   "id": "41a68fe5-9103-4768-967f-825be312cbaa",
   "metadata": {},
   "source": [
    "## plot generated fiberProfiles"
   ]
  },
  {
   "cell_type": "markdown",
   "id": "79d803de-7701-4c0f-9f08-449ceeabff26",
   "metadata": {},
   "source": [
    "### plot fiberProfiles of a subset of fibers"
   ]
  },
  {
   "cell_type": "code",
   "execution_count": null,
   "id": "70108416-375c-478d-871b-a823bf382d75",
   "metadata": {},
   "outputs": [],
   "source": [
    "rows = 5\n",
    "cols = 5\n",
    "\n",
    "np.random.seed(0)\n",
    "\n",
    "for i,spectrograph in enumerate(spectrographs):\n",
    "    for j,arm in enumerate(arms):\n",
    "        print(f\"processing {arm}{spectrograph}\")\n",
    "        dataId = dict(visit=visit, spectrograph=spectrograph, arm=arm)\n",
    "\n",
    "        fiberProfiles = butler.get(\"fiberProfiles\", dataId)\n",
    "        print(butler.getURI(\"fiberProfiles\", dataId))\n",
    "\n",
    "        fiberIds = list(np.random.choice(fiberProfiles.fiberId, size=rows*cols, replace=False))\n",
    "\n",
    "        figAxes = fiberProfiles.plot(rows, cols, fontsize=8, show=False, fiberId=fiberIds)\n",
    "        plt.yscale(\"log\")\n",
    "        plt.ylim(1.0e-05, 1.0e+00)\n",
    "        fig,axe = figAxes[fiberIds[int(rows/2)]]\n",
    "        axe.set_title(f\"fiberProfiles ({arm}{spectrograph})\")\n",
    "        plt.savefig(os.path.join(figDir, f\"fiberProfiles_{run}_profiles_{arm}{spectrograph}.pdf\"), bbox_inches=\"tight\")\n",
    "        plt.savefig(os.path.join(figDir, f\"fiberProfiles_{run}_profiles_{arm}{spectrograph}.png\"), bbox_inches=\"tight\", dpi=150)\n",
    "        plt.close()            "
   ]
  },
  {
   "cell_type": "markdown",
   "id": "4d754e1a-4af9-4f64-b005-ddfcc5fb4dcd",
   "metadata": {},
   "source": [
    "## plot statistics for generated fiberProfiles"
   ]
  },
  {
   "cell_type": "markdown",
   "id": "42e0facd-0851-44e9-b3fe-5ccf5425d9bc",
   "metadata": {},
   "source": [
    "### generate a header image (with spectrograph and arm information)"
   ]
  },
  {
   "cell_type": "code",
   "execution_count": null,
   "id": "d578811e-044b-460d-9b2d-692d3e39dcaa",
   "metadata": {},
   "outputs": [],
   "source": [
    "fig_width = 150 / 100\n",
    "fig_height = 710 / 100\n",
    "\n",
    "spectrographs = [1, 2, 3, 4]\n",
    "arms = [\"b\", \"r\", \"n\", \"m\"]\n",
    "for arm in arms:\n",
    "    for spectrograph in spectrographs:\n",
    "        fig, ax = plt.subplots(figsize=(fig_width, fig_height), dpi=100)\n",
    "        ax.set_facecolor('white')\n",
    "        ax.set_xlim(0, 1)\n",
    "        ax.set_ylim(0, 1)\n",
    "        ax.axis('off')\n",
    "\n",
    "        ax.text(0.5, 0.5, f'{arm}{spectrograph}', \n",
    "                fontsize=50, \n",
    "                ha='center', \n",
    "                va='center', \n",
    "                color='red',\n",
    "                weight='bold')\n",
    "        plt.subplots_adjust(left=0, right=1, top=1, bottom=0)\n",
    "\n",
    "        plt.savefig(os.path.join(figDir, f'header_{arm}{spectrograph}.png'), \n",
    "                    dpi=100, \n",
    "                    bbox_inches='tight', \n",
    "                    pad_inches=0,\n",
    "                    facecolor='white')\n",
    "        plt.close()"
   ]
  },
  {
   "cell_type": "markdown",
   "id": "6eaf9217-8464-43ec-86e7-861086ddcc53",
   "metadata": {},
   "source": [
    "### generate individual plots about statistics"
   ]
  },
  {
   "cell_type": "code",
   "execution_count": null,
   "id": "62432b33-b502-4cb6-88af-5eb0fe70da76",
   "metadata": {},
   "outputs": [],
   "source": [
    "for i,spectrograph in enumerate(spectrographs):\n",
    "    for j,arm in enumerate(arms):\n",
    "        print(f\"processing {arm}{spectrograph}\")\n",
    "        dataId = dict(visit=visit, spectrograph=spectrograph, arm=arm)\n",
    "        \n",
    "        fiberProfiles = butler.get(\"fiberProfiles\", dataId)\n",
    "        print(butler.getURI(\"fiberProfiles\", dataId))\n",
    "\n",
    "        figAxes = fiberProfiles.plotHistograms(variationRange=(0.0, 0.03), maxRange=(0.1, 0.5), show=False)\n",
    "        for fig,axe in figAxes:\n",
    "            filename = os.path.join(figDir, f\"fiberProfiles_{run}_histogram_{axe[0].get_xlabel()}_{arm}{spectrograph}.pdf\")\n",
    "            plt.savefig(filename, bbox_inches=\"tight\")\n",
    "            filename = os.path.join(figDir, f\"fiberProfiles_{run}_histogram_{axe[0].get_xlabel()}_{arm}{spectrograph}.png\")\n",
    "            plt.savefig(filename, bbox_inches=\"tight\", dpi=150)\n",
    "            plt.close()"
   ]
  },
  {
   "cell_type": "markdown",
   "id": "cd0b5db8-9528-4386-8858-d44fc959b46b",
   "metadata": {},
   "source": [
    "### combine individual plots into a single plot"
   ]
  },
  {
   "cell_type": "code",
   "execution_count": null,
   "id": "f0b01c82-4951-4a21-a921-ce0366ced4c2",
   "metadata": {},
   "outputs": [],
   "source": [
    "names = [\"centroid\", \"min\", \"max\", \"r90\", \"skew\", \"variation\", \"width\", \"wingFrac\"]\n",
    "\n",
    "grid_cols = len(names)\n",
    "grid_rows = len(spectrographs)\n",
    "padding = 5\n",
    "bg_color=(255, 255, 255)\n",
    "\n",
    "for arm in arms:\n",
    "    print(f\"process arm={arm}...\")\n",
    "    headers = []\n",
    "    images = []\n",
    "    for spectrograph in spectrographs:\n",
    "        filename=os.path.join(figDir, f\"header_{arm}{spectrograph}.png\")\n",
    "        img = Image.open(filename)        \n",
    "        if img.mode != 'RGBA':\n",
    "            img = img.convert('RGBA')\n",
    "        headers.append(img)\n",
    "        for name in names:\n",
    "            filename=os.path.join(figDir, f\"fiberProfiles_{run}_histogram_{name}_{arm}{spectrograph}.png\")\n",
    "            try:\n",
    "                img = Image.open(filename)\n",
    "                if img.mode != 'RGBA':\n",
    "                    img = img.convert('RGBA')\n",
    "                images.append(img)\n",
    "            except Exception as e:\n",
    "                print(f\"WARNING: reading {file_path} failed: {e}\")\n",
    "                images.append(None)\n",
    "    target_size = images[0].size\n",
    "\n",
    "    head_width, head_height = (150, 710)\n",
    "    tile_width, tile_height = target_size\n",
    "    canvas_width = head_width + grid_cols * tile_width + (grid_cols + 1) * padding\n",
    "    canvas_height = grid_rows * tile_height + (grid_rows + 1) * padding\n",
    "    canvas = Image.new('RGBA', (canvas_width, canvas_height), bg_color + (255,))\n",
    "    \n",
    "    for i in range(grid_rows):\n",
    "        x = 0\n",
    "        y = padding + i * (tile_height + padding)\n",
    "        img = headers[i]\n",
    "        canvas.paste(img, (x, y), img if img.mode == 'RGBA' else None)\n",
    "        for j in range(grid_cols):\n",
    "            idx = i * grid_cols + j\n",
    "            x = head_width + padding + j * (tile_width + padding)\n",
    "            y = padding + i * (tile_height + padding)\n",
    "            if idx < len(images) and images[idx] is not None:\n",
    "                img = images[idx].resize(target_size, Image.Resampling.LANCZOS)\n",
    "                canvas.paste(img, (x, y), img if img.mode == 'RGBA' else None)\n",
    "            else:\n",
    "                placeholder = Image.new('RGBA', target_size, (240, 240, 240, 255))\n",
    "                canvas.paste(placeholder, (x, y))\n",
    "\n",
    "    canvas.save(os.path.join(figDir, f\"fiberProfiles_{run}_histogram_combined_{arm}.png\"), 'PNG')"
   ]
  },
  {
   "cell_type": "code",
   "execution_count": null,
   "id": "cf52412e-9692-4d22-9173-8d676742e4e8",
   "metadata": {},
   "outputs": [],
   "source": []
  }
 ],
 "metadata": {
  "kernelspec": {
   "display_name": "PFS",
   "language": "python",
   "name": "pfs_pipe2d"
  },
  "language_info": {
   "codemirror_mode": {
    "name": "ipython",
    "version": 3
   },
   "file_extension": ".py",
   "mimetype": "text/x-python",
   "name": "python",
   "nbconvert_exporter": "python",
   "pygments_lexer": "ipython3",
   "version": "3.12.11"
  },
  "widgets": {
   "application/vnd.jupyter.widget-state+json": {
    "state": {},
    "version_major": 2,
    "version_minor": 0
   }
  }
 },
 "nbformat": 4,
 "nbformat_minor": 5
}
